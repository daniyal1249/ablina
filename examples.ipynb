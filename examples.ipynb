{
 "cells": [
  {
   "cell_type": "code",
   "execution_count": 1,
   "id": "c15a2c3c-e834-44b1-93b4-1f0aa1aa2391",
   "metadata": {},
   "outputs": [],
   "source": [
    "import sympy as sp\n",
    "from sympy.interactive import printing\n",
    "from ablina import *\n",
    "\n",
    "printing.init_printing()"
   ]
  },
  {
   "cell_type": "markdown",
   "id": "1c949d70-7fe4-494b-982f-02815163c557",
   "metadata": {},
   "source": [
    "---\n",
    "For each of the following subsets of $\\mathbb{F}^3$, determine whether it is a subspace of $\\mathbb{F}^3$.\n",
    "\n",
    "$(a) \\quad \\{(x_1, x_2, x_3) \\in \\mathbb{F}^3 : x_1 + 2x_2 + 3x_3 = 0\\}$\n",
    "\n",
    "$(b) \\quad \\{(x_1, x_2, x_3) \\in \\mathbb{F}^3 : x_1 + 2x_2 + 3x_3 = 4\\}$\n",
    "\n",
    "$(c) \\quad \\{(x_1, x_2, x_3) \\in \\mathbb{F}^3 : x_1 x_2 x_3 = 0\\}$\n",
    "\n",
    "$(d) \\quad \\{(x_1, x_2, x_3) \\in \\mathbb{F}^3 : x_1 = 5x_3\\}$\n",
    "\n",
    "\n"
   ]
  },
  {
   "cell_type": "code",
   "execution_count": 2,
   "id": "ac05ea9a-cfbe-4cbe-9f57-16de84d5021a",
   "metadata": {},
   "outputs": [
    {
     "data": {
      "text/plain": [
       "(True, False, False, True)"
      ]
     },
     "execution_count": 2,
     "metadata": {},
     "output_type": "execute_result"
    }
   ],
   "source": [
    "# Test whether a-d are vector spaces\n",
    "a = is_vectorspace(3, constraints=['v0 + 2*v1 + 3*v2 == 0'])\n",
    "b = is_vectorspace(3, constraints=['v0 + 2*v1 + 3*v2 == 4'])\n",
    "c = is_vectorspace(3, constraints=['v0*v1*v2 == 0'])\n",
    "d = is_vectorspace(3, constraints=['v0 == 5*v2'])\n",
    "\n",
    "a, b, c, d"
   ]
  },
  {
   "cell_type": "markdown",
   "id": "e87705b1-a93b-427f-b874-d9ac75eac4c8",
   "metadata": {},
   "source": [
    "---\n",
    "Suppose\n",
    "\n",
    "$U = \\{(x, -x, 2x) \\in \\mathbb{F}^3 : x \\in \\mathbb{F}\\} \\:$ and $\\: W = \\{(x, x, 2x) \\in \\mathbb{F}^3 : x \\in \\mathbb{F}\\}.$\n",
    "\n",
    "Describe $U + W$ using symbols."
   ]
  },
  {
   "cell_type": "code",
   "execution_count": 5,
   "id": "9ea6e16a-0648-42b5-a4d5-849cf76b28b7",
   "metadata": {},
   "outputs": [
    {
     "data": {
      "image/png": "[encoded data removed]",
      "text/latex": [
       "$\\displaystyle \\left[ c_{0}, \\  c_{1}, \\  2 c_{0}\\right]$"
      ],
      "text/plain": [
       "[c₀, c₁, 2⋅c₀]"
      ]
     },
     "execution_count": 5,
     "metadata": {},
     "output_type": "execute_result"
    }
   ],
   "source": [
    "U = fn('U', R, 3, constraints=['v1 == -1*v0', 'v2 == 2*v0'])\n",
    "W = fn('W', R, 3, constraints=['v1 == v0', 'v2 == 2*v0'])\n",
    "(U + W).vector(arbitrary=True)"
   ]
  },
  {
   "cell_type": "markdown",
   "id": "ce68332e",
   "metadata": {},
   "source": [
    "---\n",
    "Suppose\n",
    "\n",
    "$U = \\{(x, x, y, y) \\in \\mathbb{F}^4 : x, y \\in \\mathbb{F}\\}.$\n",
    "\n",
    "Find a subspace $W$ of $\\mathbb{F}^4$ such that $\\mathbb{F}^4 = U \\oplus W$.\n"
   ]
  },
  {
   "cell_type": "code",
   "execution_count": 6,
   "id": "bc7410a1",
   "metadata": {},
   "outputs": [
    {
     "data": {
      "text/plain": [
       "True"
      ]
     },
     "execution_count": 6,
     "metadata": {},
     "output_type": "execute_result"
    }
   ],
   "source": [
    "R4 = fn('R4', R, 4)\n",
    "U = fn('U', R, 4, constraints=['v0 == v1', 'v2 == v3'])\n",
    "\n",
    "# Let W be the vector space: \n",
    "W = fn('W', R, 4, constraints=['v1 == v3 == 0'])\n",
    "\n",
    "# Need to show U + W = R^4 and U intersection W = {0}\n",
    "# Note that a vector space X = {0} iff dim(X) = 0\n",
    "U + W == R4 and U.intersection(W).dim == 0"
   ]
  },
  {
   "cell_type": "markdown",
   "id": "886b54ac-df57-4192-8f5f-d975002fb2c3",
   "metadata": {},
   "source": [
    "---\n",
    "Show that a list of length one in a vector space is linearly independent \n",
    "if and only if the vector in the list is not $0$."
   ]
  },
  {
   "cell_type": "code",
   "execution_count": 7,
   "id": "523f55f8-e2a1-44bb-a7fd-1a92f2b3230f",
   "metadata": {},
   "outputs": [
    {
     "data": {
      "text/plain": [
       "True"
      ]
     },
     "execution_count": 7,
     "metadata": {},
     "output_type": "execute_result"
    }
   ],
   "source": [
    "# Choose R^2 as the vector space\n",
    "R2 = fn('R2', R, 2)\n",
    "\n",
    "# Show that if the vector is not 0, then the list is linearly independent\n",
    "x, y = sp.symbols('x y', nonzero=True)  # gives error if False\n",
    "R2.are_independent([x, y])"
   ]
  },
  {
   "cell_type": "markdown",
   "id": "10c2d385-f4d5-4430-9bcc-ae6b3b17f9b1",
   "metadata": {},
   "source": [
    "---\n",
    "Find a number $t$ such that \n",
    "$(3, 1, 4), \\:(2, -3, 5), \\:(5, 9, t)$\n",
    "is not linearly independent in $\\mathbb{R}^3$."
   ]
  },
  {
   "cell_type": "code",
   "execution_count": 8,
   "id": "9470c608-83d4-47d1-8ec9-28b5d225ab4e",
   "metadata": {},
   "outputs": [
    {
     "data": {
      "text/plain": [
       "True"
      ]
     },
     "execution_count": 8,
     "metadata": {},
     "output_type": "execute_result"
    }
   ],
   "source": [
    "# Verify t = 2 works\n",
    "R3 = fn('R3', R, 3)\n",
    "not R3.are_independent([3, 1, 4], [2, -3, 5], [5, 9, 2])"
   ]
  },
  {
   "cell_type": "markdown",
   "id": "7d68cb17-3952-45fb-bbd9-dff6994c4645",
   "metadata": {},
   "source": [
    "---\n",
    "Let $U$ be the subspace of $\\mathbb{R}^5$ defined by\n",
    "\n",
    "$U = \\{(x_1, x_2, x_3, x_4, x_5) \\in \\mathbb{R}^5 : x_1 = 3x_2 \\:$ and $\\: x_3 = 7x_4\\}.$\n",
    "\n",
    "Find a basis of $U$."
   ]
  },
  {
   "cell_type": "code",
   "execution_count": 9,
   "id": "8c11287d-dc01-4d61-be11-e6d6aaad20b7",
   "metadata": {},
   "outputs": [
    {
     "data": {
      "image/png": "[encoded data removed]",
      "text/latex": [
       "$\\displaystyle \\left[ \\left[ 1, \\  \\frac{1}{3}, \\  0, \\  0, \\  0\\right], \\  \\left[ 0, \\  0, \\  1, \\  \\frac{1}{7}, \\  0\\right], \\  \\left[ 0, \\  0, \\  0, \\  0, \\  1\\right]\\right]$"
      ],
      "text/plain": [
       "[[1, 1/3, 0, 0, 0], [0, 0, 1, 1/7, 0], [0, 0, 0, 0, 1]]"
      ]
     },
     "execution_count": 9,
     "metadata": {},
     "output_type": "execute_result"
    }
   ],
   "source": [
    "U = fn('U', R, 5, constraints=['v0 == 3*v1', 'v2 == 7*v3'])\n",
    "U.basis"
   ]
  },
  {
   "cell_type": "markdown",
   "id": "cc540859-a990-4b9a-9f5c-2d81bf2ff7f8",
   "metadata": {},
   "source": [
    "---\n",
    "Let $U$ be the subspace of $\\mathbb{C}^5$ defined by\n",
    "\n",
    "$U = \\{(z_1, z_2, z_3, z_4, z_5) \\in \\mathbb{C}^5 : 6z_1 = z_2 \\:$ and $\\: z_3 + 2z_4 + 3z_5 = 0\\}.$\n",
    "\n",
    "Find a basis of $U$."
   ]
  },
  {
   "cell_type": "code",
   "execution_count": 10,
   "id": "07b15fb8-082d-4382-b32d-74fb1f8b820a",
   "metadata": {},
   "outputs": [
    {
     "data": {
      "image/png": "[encoded data removed]",
      "text/latex": [
       "$\\displaystyle \\left[ \\left[ 1, \\  6, \\  0, \\  0, \\  0\\right], \\  \\left[ 0, \\  0, \\  1, \\  0, \\  - \\frac{1}{3}\\right], \\  \\left[ 0, \\  0, \\  0, \\  1, \\  - \\frac{2}{3}\\right]\\right]$"
      ],
      "text/plain": [
       "[[1, 6, 0, 0, 0], [0, 0, 1, 0, -1/3], [0, 0, 0, 1, -2/3]]"
      ]
     },
     "execution_count": 10,
     "metadata": {},
     "output_type": "execute_result"
    }
   ],
   "source": [
    "U = fn('U', C, 5, constraints=['6*v0 == v1', 'v2 + 2*v3 + 3*v4 == 0'])\n",
    "U.basis"
   ]
  },
  {
   "cell_type": "markdown",
   "id": "95fdb208-c49e-4f80-8b4d-82ac0b5699aa",
   "metadata": {},
   "source": [
    "---\n",
    "Let $\\: U = \\{p \\in P_4(\\mathbb{F}) : p(6) = 0\\}.$ Find a basis of $U$."
   ]
  },
  {
   "cell_type": "code",
   "execution_count": 11,
   "id": "227f98a9-9500-4616-8739-89904b9e0178",
   "metadata": {},
   "outputs": [
    {
     "data": {
      "image/png": "[encoded data removed]",
      "text/latex": [
       "$\\displaystyle \\left[ 1 - \\frac{x^{4}}{1296}, \\  - \\frac{x^{4}}{216} + x, \\  - \\frac{x^{4}}{36} + x^{2}, \\  - \\frac{x^{4}}{6} + x^{3}\\right]$"
      ],
      "text/plain": [
       "⎡      4      4          4          4     ⎤\n",
       "⎢     x      x          x     2    x     3⎥\n",
       "⎢1 - ────, - ─── + x, - ── + x , - ── + x ⎥\n",
       "⎣    1296    216        36         6      ⎦"
      ]
     },
     "execution_count": 11,
     "metadata": {},
     "output_type": "execute_result"
    }
   ],
   "source": [
    "# Since p(6) = 0, the polynomials must satisfy the equation: \n",
    "constraint = 'v0 + (6)*v1 + (6**2)*v2 + (6**3)*v3 + (6**4)*v4 == 0'\n",
    "U = poly_space('U', R, max_degree=4, constraints=[constraint])\n",
    "[poly.as_expr() for poly in U.basis]"
   ]
  },
  {
   "cell_type": "markdown",
   "id": "bfdbc4c7",
   "metadata": {},
   "source": [
    "---\n",
    "If $\\: U = \\{(x, y, z) \\in \\mathbb{F}^3 : x + y + z = 0\\},$ then $\\text{dim}\\:U = 2$."
   ]
  },
  {
   "cell_type": "code",
   "execution_count": 12,
   "id": "7e2b733e",
   "metadata": {},
   "outputs": [
    {
     "data": {
      "image/png": "[encoded data removed]",
      "text/latex": [
       "$\\displaystyle 2$"
      ],
      "text/plain": [
       "2"
      ]
     },
     "execution_count": 12,
     "metadata": {},
     "output_type": "execute_result"
    }
   ],
   "source": [
    "U = fn('U', R, 3, constraints=['v0 + v1 + v2 == 0'])\n",
    "U.dim"
   ]
  },
  {
   "cell_type": "markdown",
   "id": "b67ed920-da95-4c0a-a135-ab5eebab5892",
   "metadata": {},
   "source": [
    "---\n",
    "$ (a) \\quad (17, -4, 2) \\in \\text{span}((2, 1, -3),(1, -2, 4)) $\n",
    "\n",
    "$ (b) \\quad (17, -4, 5) \\notin \\text{span}((2, 1, -3),(1, -2, 4)) $"
   ]
  },
  {
   "cell_type": "code",
   "execution_count": 14,
   "id": "52082ad8-3f0c-49db-8c47-efd93e763ef5",
   "metadata": {},
   "outputs": [
    {
     "data": {
      "text/plain": [
       "(True, True)"
      ]
     },
     "execution_count": 14,
     "metadata": {},
     "output_type": "execute_result"
    }
   ],
   "source": [
    "R3 = fn('R3', R, 3)\n",
    "vs = R3.span('vs', [2, 1, -3], [1, -2, 4])\n",
    "[17, -4, 2] in vs, [17, -4, 5] not in vs"
   ]
  }
 ],
 "metadata": {
  "kernelspec": {
   "display_name": "Python 3",
   "language": "python",
   "name": "python3"
  },
  "language_info": {
   "codemirror_mode": {
    "name": "ipython",
    "version": 3
   },
   "file_extension": ".py",
   "mimetype": "text/x-python",
   "name": "python",
   "nbconvert_exporter": "python",
   "pygments_lexer": "ipython3",
   "version": "3.12.5"
  }
 },
 "nbformat": 4,
 "nbformat_minor": 5
}
